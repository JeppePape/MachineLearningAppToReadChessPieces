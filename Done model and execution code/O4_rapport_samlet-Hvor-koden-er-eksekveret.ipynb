{
 "cells": [
  {
   "cell_type": "markdown",
   "metadata": {},
   "source": [
    "# SWMAL-01 O4"
   ]
  },
  {
   "cell_type": "markdown",
   "metadata": {},
   "source": [
    "#### Group number: SWMAL_Grp 01"
   ]
  },
  {
   "cell_type": "markdown",
   "metadata": {},
   "source": [
    "#### Group members:\n",
    "\n",
    "| Name             | Student Number |\n",
    "| ---------------- | -------------- |\n",
    "| Kristian Lund | 201205937      |\n",
    "| Jeppe Pape | xxx      |\n",
    "| Niels Kristensen | xxx      |\n"
   ]
  },
  {
   "cell_type": "markdown",
   "metadata": {},
   "source": [
    "## Global imports"
   ]
  },
  {
   "cell_type": "code",
   "execution_count": 1,
   "metadata": {},
   "outputs": [],
   "source": [
    "import numpy as np\n",
    "from FEN_to_64grid import FEN_to_seq #Our Method\n",
    "from FEN_to_64grid import seq_to_FEN #Our Method\n",
    "\n",
    "from PIL import Image #For Saving images as files\n",
    "import os #For file path\n",
    "from os import listdir #For file path\n",
    "import matplotlib.image as mpimg #For plotting\n",
    "import matplotlib.pyplot as plt #For plotting\n",
    "from sklearn.model_selection import train_test_split#For train and test split\n",
    "from enum import Enum # For Enum class\n",
    "from keras.utils import to_categorical #For enum labels\n",
    "import keras\n",
    "from keras import layers\n",
    "from sklearn import metrics #For Confusion Matrix"
   ]
  },
  {
   "cell_type": "markdown",
   "metadata": {},
   "source": [
    "### Splitting chessboard images into single board positions"
   ]
  },
  {
   "cell_type": "code",
   "execution_count": 4,
   "metadata": {},
   "outputs": [],
   "source": [
    "#Load data into individual position images\n",
    "# This method also removes duplicates\n",
    "def Save_individual_positions(data_path, destination_path):\n",
    "        for file in os.listdir(data_path):\n",
    "                #Get FEN from file\n",
    "                FEN_string = file.replace('.jpeg', '')\n",
    "                #Convert to seq name\n",
    "                chessboard_seq = FEN_to_seq(FEN_string)\n",
    "                #Go through all jpeg images\n",
    "                if (file.endswith(\".jpeg\")):\n",
    "                        # Store file as image data\n",
    "                        file_path = os.path.join(data_path, file)\n",
    "                        image = mpimg.imread(file_path)\n",
    "                        #For all positions\n",
    "                        for i in range(1,65):\n",
    "                                #Make file name\n",
    "                                if (chessboard_seq[i-1] != \"_\"):\n",
    "                                        new_file_name = os.path.join(chessboard_seq[i-1]+str(i)+\"/\", chessboard_seq,'.jpeg')\n",
    "                                else:\n",
    "                                        new_file_name = os.path.join(chessboard_seq[i-1]+\"_\", chessboard_seq,'.jpeg')\n",
    "                                new_file_name = new_file_name.replace('\\\\','')\n",
    "                                #Save image\n",
    "                                zoom_image = zoom_to_position(image,i)\n",
    "                                new_image = Image.fromarray(zoom_image.astype('uint8'))\n",
    "                                new_image.save(os.path.join(destination_path, new_file_name))"
   ]
  },
  {
   "cell_type": "markdown",
   "metadata": {},
   "source": [
    "### Loading the data"
   ]
  },
  {
   "cell_type": "markdown",
   "metadata": {},
   "source": [
    "To load data from a folder a function `Import_individual_positions(data_path)` was made. Here each 50x50 image is loaded into the X matrix and the label corresponds to the first element in the name of each file."
   ]
  },
  {
   "cell_type": "code",
   "execution_count": 5,
   "metadata": {},
   "outputs": [],
   "source": [
    "#Load data into individual position images\n",
    "def Import_individual_positions(data_path):\n",
    "        X = []\n",
    "        y = []\n",
    "        for file in os.listdir(data_path):\n",
    "                #Go through all jpeg images\n",
    "                if (file.endswith(\".jpeg\")):\n",
    "                        # Store file as image data\n",
    "                        file_path = os.path.join(data_path, file)\n",
    "                        image = mpimg.imread(file_path)\n",
    "                        #store image in X\n",
    "                        X.append(image)\n",
    "                        #store label\n",
    "                        y.append(file[0])\n",
    "        return X, y"
   ]
  },
  {
   "cell_type": "markdown",
   "metadata": {},
   "source": [
    "From this the X_raw (data matrix) and y_raw (vector containing data labels) can be defined."
   ]
  },
  {
   "cell_type": "code",
   "execution_count": 6,
   "metadata": {},
   "outputs": [],
   "source": [
    "data_path = r'train_individual_pos' #Set data folder\n",
    "X_raw, y_raw = Import_individual_positions(data_path)"
   ]
  },
  {
   "cell_type": "code",
   "execution_count": 7,
   "metadata": {},
   "outputs": [],
   "source": [
    "class CharEnum(Enum):\n",
    "    _ = 0\n",
    "    P = 1\n",
    "    N = 2\n",
    "    B = 3\n",
    "    R = 4\n",
    "    Q = 5\n",
    "    K = 6\n",
    "    p = 7\n",
    "    n = 8\n",
    "    b = 9\n",
    "    r = 10\n",
    "    q = 11\n",
    "    k = 12"
   ]
  },
  {
   "cell_type": "code",
   "execution_count": 8,
   "metadata": {},
   "outputs": [],
   "source": [
    "#Convert to numpy array\n",
    "X = np.array(X_raw)\n",
    "y_num = [CharEnum[char].value for char in y_raw] #Convert ASCII to numbers from 1-13\n",
    "y = np.array(y_num)\n",
    "\n",
    "#Preprocess\n",
    "X = X.reshape(-1, 50, 50, 3).astype('uint8') / 255 #RGB pixels from 0-255\n",
    "y = to_categorical(y, num_classes=None) #Convert int to binary class matrix (One-hot)"
   ]
  },
  {
   "cell_type": "markdown",
   "metadata": {},
   "source": [
    "## Valg af ML algoritme"
   ]
  },
  {
   "cell_type": "markdown",
   "metadata": {},
   "source": [
    "#### Build model"
   ]
  },
  {
   "cell_type": "code",
   "execution_count": 9,
   "metadata": {},
   "outputs": [],
   "source": [
    "import keras\n",
    "from keras import layers"
   ]
  },
  {
   "cell_type": "code",
   "execution_count": 10,
   "metadata": {},
   "outputs": [
    {
     "name": "stderr",
     "output_type": "stream",
     "text": [
      "c:\\Users\\jeppe\\AppData\\Local\\Programs\\Python\\Python312\\Lib\\site-packages\\keras\\src\\layers\\convolutional\\base_conv.py:107: UserWarning: Do not pass an `input_shape`/`input_dim` argument to a layer. When using Sequential models, prefer using an `Input(shape)` object as the first layer in the model instead.\n",
      "  super().__init__(activity_regularizer=activity_regularizer, **kwargs)\n"
     ]
    },
    {
     "data": {
      "text/html": [
       "<pre style=\"white-space:pre;overflow-x:auto;line-height:normal;font-family:Menlo,'DejaVu Sans Mono',consolas,'Courier New',monospace\"><span style=\"font-weight: bold\">Model: \"sequential\"</span>\n",
       "</pre>\n"
      ],
      "text/plain": [
       "\u001b[1mModel: \"sequential\"\u001b[0m\n"
      ]
     },
     "metadata": {},
     "output_type": "display_data"
    },
    {
     "data": {
      "text/html": [
       "<pre style=\"white-space:pre;overflow-x:auto;line-height:normal;font-family:Menlo,'DejaVu Sans Mono',consolas,'Courier New',monospace\">┏━━━━━━━━━━━━━━━━━━━━━━━━━━━━━━━━━┳━━━━━━━━━━━━━━━━━━━━━━━━┳━━━━━━━━━━━━━━━┓\n",
       "┃<span style=\"font-weight: bold\"> Layer (type)                    </span>┃<span style=\"font-weight: bold\"> Output Shape           </span>┃<span style=\"font-weight: bold\">       Param # </span>┃\n",
       "┡━━━━━━━━━━━━━━━━━━━━━━━━━━━━━━━━━╇━━━━━━━━━━━━━━━━━━━━━━━━╇━━━━━━━━━━━━━━━┩\n",
       "│ conv2d (<span style=\"color: #0087ff; text-decoration-color: #0087ff\">Conv2D</span>)                 │ (<span style=\"color: #00d7ff; text-decoration-color: #00d7ff\">None</span>, <span style=\"color: #00af00; text-decoration-color: #00af00\">49</span>, <span style=\"color: #00af00; text-decoration-color: #00af00\">49</span>, <span style=\"color: #00af00; text-decoration-color: #00af00\">6</span>)      │            <span style=\"color: #00af00; text-decoration-color: #00af00\">78</span> │\n",
       "├─────────────────────────────────┼────────────────────────┼───────────────┤\n",
       "│ max_pooling2d (<span style=\"color: #0087ff; text-decoration-color: #0087ff\">MaxPooling2D</span>)    │ (<span style=\"color: #00d7ff; text-decoration-color: #00d7ff\">None</span>, <span style=\"color: #00af00; text-decoration-color: #00af00\">24</span>, <span style=\"color: #00af00; text-decoration-color: #00af00\">24</span>, <span style=\"color: #00af00; text-decoration-color: #00af00\">6</span>)      │             <span style=\"color: #00af00; text-decoration-color: #00af00\">0</span> │\n",
       "├─────────────────────────────────┼────────────────────────┼───────────────┤\n",
       "│ conv2d_1 (<span style=\"color: #0087ff; text-decoration-color: #0087ff\">Conv2D</span>)               │ (<span style=\"color: #00d7ff; text-decoration-color: #00d7ff\">None</span>, <span style=\"color: #00af00; text-decoration-color: #00af00\">23</span>, <span style=\"color: #00af00; text-decoration-color: #00af00\">23</span>, <span style=\"color: #00af00; text-decoration-color: #00af00\">16</span>)     │           <span style=\"color: #00af00; text-decoration-color: #00af00\">400</span> │\n",
       "├─────────────────────────────────┼────────────────────────┼───────────────┤\n",
       "│ average_pooling2d               │ (<span style=\"color: #00d7ff; text-decoration-color: #00d7ff\">None</span>, <span style=\"color: #00af00; text-decoration-color: #00af00\">11</span>, <span style=\"color: #00af00; text-decoration-color: #00af00\">11</span>, <span style=\"color: #00af00; text-decoration-color: #00af00\">16</span>)     │             <span style=\"color: #00af00; text-decoration-color: #00af00\">0</span> │\n",
       "│ (<span style=\"color: #0087ff; text-decoration-color: #0087ff\">AveragePooling2D</span>)              │                        │               │\n",
       "├─────────────────────────────────┼────────────────────────┼───────────────┤\n",
       "│ flatten (<span style=\"color: #0087ff; text-decoration-color: #0087ff\">Flatten</span>)               │ (<span style=\"color: #00d7ff; text-decoration-color: #00d7ff\">None</span>, <span style=\"color: #00af00; text-decoration-color: #00af00\">1936</span>)           │             <span style=\"color: #00af00; text-decoration-color: #00af00\">0</span> │\n",
       "├─────────────────────────────────┼────────────────────────┼───────────────┤\n",
       "│ dense (<span style=\"color: #0087ff; text-decoration-color: #0087ff\">Dense</span>)                   │ (<span style=\"color: #00d7ff; text-decoration-color: #00d7ff\">None</span>, <span style=\"color: #00af00; text-decoration-color: #00af00\">128</span>)            │       <span style=\"color: #00af00; text-decoration-color: #00af00\">247,936</span> │\n",
       "├─────────────────────────────────┼────────────────────────┼───────────────┤\n",
       "│ dropout (<span style=\"color: #0087ff; text-decoration-color: #0087ff\">Dropout</span>)               │ (<span style=\"color: #00d7ff; text-decoration-color: #00d7ff\">None</span>, <span style=\"color: #00af00; text-decoration-color: #00af00\">128</span>)            │             <span style=\"color: #00af00; text-decoration-color: #00af00\">0</span> │\n",
       "├─────────────────────────────────┼────────────────────────┼───────────────┤\n",
       "│ dense_1 (<span style=\"color: #0087ff; text-decoration-color: #0087ff\">Dense</span>)                 │ (<span style=\"color: #00d7ff; text-decoration-color: #00d7ff\">None</span>, <span style=\"color: #00af00; text-decoration-color: #00af00\">64</span>)             │         <span style=\"color: #00af00; text-decoration-color: #00af00\">8,256</span> │\n",
       "├─────────────────────────────────┼────────────────────────┼───────────────┤\n",
       "│ dropout_1 (<span style=\"color: #0087ff; text-decoration-color: #0087ff\">Dropout</span>)             │ (<span style=\"color: #00d7ff; text-decoration-color: #00d7ff\">None</span>, <span style=\"color: #00af00; text-decoration-color: #00af00\">64</span>)             │             <span style=\"color: #00af00; text-decoration-color: #00af00\">0</span> │\n",
       "├─────────────────────────────────┼────────────────────────┼───────────────┤\n",
       "│ dense_2 (<span style=\"color: #0087ff; text-decoration-color: #0087ff\">Dense</span>)                 │ (<span style=\"color: #00d7ff; text-decoration-color: #00d7ff\">None</span>, <span style=\"color: #00af00; text-decoration-color: #00af00\">13</span>)             │           <span style=\"color: #00af00; text-decoration-color: #00af00\">845</span> │\n",
       "└─────────────────────────────────┴────────────────────────┴───────────────┘\n",
       "</pre>\n"
      ],
      "text/plain": [
       "┏━━━━━━━━━━━━━━━━━━━━━━━━━━━━━━━━━┳━━━━━━━━━━━━━━━━━━━━━━━━┳━━━━━━━━━━━━━━━┓\n",
       "┃\u001b[1m \u001b[0m\u001b[1mLayer (type)                   \u001b[0m\u001b[1m \u001b[0m┃\u001b[1m \u001b[0m\u001b[1mOutput Shape          \u001b[0m\u001b[1m \u001b[0m┃\u001b[1m \u001b[0m\u001b[1m      Param #\u001b[0m\u001b[1m \u001b[0m┃\n",
       "┡━━━━━━━━━━━━━━━━━━━━━━━━━━━━━━━━━╇━━━━━━━━━━━━━━━━━━━━━━━━╇━━━━━━━━━━━━━━━┩\n",
       "│ conv2d (\u001b[38;5;33mConv2D\u001b[0m)                 │ (\u001b[38;5;45mNone\u001b[0m, \u001b[38;5;34m49\u001b[0m, \u001b[38;5;34m49\u001b[0m, \u001b[38;5;34m6\u001b[0m)      │            \u001b[38;5;34m78\u001b[0m │\n",
       "├─────────────────────────────────┼────────────────────────┼───────────────┤\n",
       "│ max_pooling2d (\u001b[38;5;33mMaxPooling2D\u001b[0m)    │ (\u001b[38;5;45mNone\u001b[0m, \u001b[38;5;34m24\u001b[0m, \u001b[38;5;34m24\u001b[0m, \u001b[38;5;34m6\u001b[0m)      │             \u001b[38;5;34m0\u001b[0m │\n",
       "├─────────────────────────────────┼────────────────────────┼───────────────┤\n",
       "│ conv2d_1 (\u001b[38;5;33mConv2D\u001b[0m)               │ (\u001b[38;5;45mNone\u001b[0m, \u001b[38;5;34m23\u001b[0m, \u001b[38;5;34m23\u001b[0m, \u001b[38;5;34m16\u001b[0m)     │           \u001b[38;5;34m400\u001b[0m │\n",
       "├─────────────────────────────────┼────────────────────────┼───────────────┤\n",
       "│ average_pooling2d               │ (\u001b[38;5;45mNone\u001b[0m, \u001b[38;5;34m11\u001b[0m, \u001b[38;5;34m11\u001b[0m, \u001b[38;5;34m16\u001b[0m)     │             \u001b[38;5;34m0\u001b[0m │\n",
       "│ (\u001b[38;5;33mAveragePooling2D\u001b[0m)              │                        │               │\n",
       "├─────────────────────────────────┼────────────────────────┼───────────────┤\n",
       "│ flatten (\u001b[38;5;33mFlatten\u001b[0m)               │ (\u001b[38;5;45mNone\u001b[0m, \u001b[38;5;34m1936\u001b[0m)           │             \u001b[38;5;34m0\u001b[0m │\n",
       "├─────────────────────────────────┼────────────────────────┼───────────────┤\n",
       "│ dense (\u001b[38;5;33mDense\u001b[0m)                   │ (\u001b[38;5;45mNone\u001b[0m, \u001b[38;5;34m128\u001b[0m)            │       \u001b[38;5;34m247,936\u001b[0m │\n",
       "├─────────────────────────────────┼────────────────────────┼───────────────┤\n",
       "│ dropout (\u001b[38;5;33mDropout\u001b[0m)               │ (\u001b[38;5;45mNone\u001b[0m, \u001b[38;5;34m128\u001b[0m)            │             \u001b[38;5;34m0\u001b[0m │\n",
       "├─────────────────────────────────┼────────────────────────┼───────────────┤\n",
       "│ dense_1 (\u001b[38;5;33mDense\u001b[0m)                 │ (\u001b[38;5;45mNone\u001b[0m, \u001b[38;5;34m64\u001b[0m)             │         \u001b[38;5;34m8,256\u001b[0m │\n",
       "├─────────────────────────────────┼────────────────────────┼───────────────┤\n",
       "│ dropout_1 (\u001b[38;5;33mDropout\u001b[0m)             │ (\u001b[38;5;45mNone\u001b[0m, \u001b[38;5;34m64\u001b[0m)             │             \u001b[38;5;34m0\u001b[0m │\n",
       "├─────────────────────────────────┼────────────────────────┼───────────────┤\n",
       "│ dense_2 (\u001b[38;5;33mDense\u001b[0m)                 │ (\u001b[38;5;45mNone\u001b[0m, \u001b[38;5;34m13\u001b[0m)             │           \u001b[38;5;34m845\u001b[0m │\n",
       "└─────────────────────────────────┴────────────────────────┴───────────────┘\n"
      ]
     },
     "metadata": {},
     "output_type": "display_data"
    },
    {
     "data": {
      "text/html": [
       "<pre style=\"white-space:pre;overflow-x:auto;line-height:normal;font-family:Menlo,'DejaVu Sans Mono',consolas,'Courier New',monospace\"><span style=\"font-weight: bold\"> Total params: </span><span style=\"color: #00af00; text-decoration-color: #00af00\">257,515</span> (1005.92 KB)\n",
       "</pre>\n"
      ],
      "text/plain": [
       "\u001b[1m Total params: \u001b[0m\u001b[38;5;34m257,515\u001b[0m (1005.92 KB)\n"
      ]
     },
     "metadata": {},
     "output_type": "display_data"
    },
    {
     "data": {
      "text/html": [
       "<pre style=\"white-space:pre;overflow-x:auto;line-height:normal;font-family:Menlo,'DejaVu Sans Mono',consolas,'Courier New',monospace\"><span style=\"font-weight: bold\"> Trainable params: </span><span style=\"color: #00af00; text-decoration-color: #00af00\">257,515</span> (1005.92 KB)\n",
       "</pre>\n"
      ],
      "text/plain": [
       "\u001b[1m Trainable params: \u001b[0m\u001b[38;5;34m257,515\u001b[0m (1005.92 KB)\n"
      ]
     },
     "metadata": {},
     "output_type": "display_data"
    },
    {
     "data": {
      "text/html": [
       "<pre style=\"white-space:pre;overflow-x:auto;line-height:normal;font-family:Menlo,'DejaVu Sans Mono',consolas,'Courier New',monospace\"><span style=\"font-weight: bold\"> Non-trainable params: </span><span style=\"color: #00af00; text-decoration-color: #00af00\">0</span> (0.00 B)\n",
       "</pre>\n"
      ],
      "text/plain": [
       "\u001b[1m Non-trainable params: \u001b[0m\u001b[38;5;34m0\u001b[0m (0.00 B)\n"
      ]
     },
     "metadata": {},
     "output_type": "display_data"
    }
   ],
   "source": [
    "#13 pieces (6*2 types + blank space)\n",
    "from keras.regularizers import l2\n",
    "from keras.layers import Dropout\n",
    "\n",
    "#Advanced\n",
    "def make_advanced_model():\n",
    "    advanced_model = keras.Sequential()\n",
    "    advanced_model.add(layers.Conv2D(filters = 6, kernel_size=(2, 2), activation='relu', input_shape=(50,50,3))) #Input layer\n",
    "    advanced_model.add(layers.MaxPooling2D(pool_size=(2, 2))) #Downsampling layer\n",
    "    advanced_model.add(layers.Conv2D(filters = 16, kernel_size=(2, 2), activation='relu'))\n",
    "    advanced_model.add(layers.AveragePooling2D(pool_size=(2, 2)))\n",
    "\n",
    "    advanced_model.add(layers.Flatten()) #Flatten layer\n",
    "\n",
    "    # Assuming advanced_model is defined as Sequential or Functional API\n",
    "    advanced_model.add(layers.Dense(128, activation='relu', kernel_regularizer=l2(0.01)))  # Add L2 regularization\n",
    "    advanced_model.add(Dropout(0.5))  # Add Dropout layer\n",
    "    advanced_model.add(layers.Dense(64, activation='relu', kernel_regularizer=l2(0.01)))\n",
    "    advanced_model.add(Dropout(0.5))\n",
    "    advanced_model.add(layers.Dense((13), activation='softmax'))  # Output layer\n",
    "\n",
    "    return advanced_model\n",
    "\n",
    "advanced_model = make_advanced_model()\n",
    "advanced_model.summary()"
   ]
  },
  {
   "cell_type": "markdown",
   "metadata": {},
   "source": [
    "#### Test/Train split + shuffle"
   ]
  },
  {
   "cell_type": "code",
   "execution_count": 11,
   "metadata": {},
   "outputs": [],
   "source": [
    "X_train = X\n",
    "y_train = y"
   ]
  },
  {
   "cell_type": "code",
   "execution_count": 14,
   "metadata": {},
   "outputs": [],
   "source": [
    "from sklearn.utils import shuffle\n",
    "from tensorflow.keras.preprocessing.image import ImageDataGenerator\n",
    "\n",
    "# Shuffle X_train and y_train\n",
    "X_train, y_train = shuffle(X_train, y_train, random_state=42)  # Random state for reproducibility\n",
    "\n",
    "\n",
    "datagen = ImageDataGenerator(validation_split=0.2)\n",
    "train_generator = datagen.flow(X_train, y_train, batch_size=32, subset='training')\n",
    "validation_generator = datagen.flow(X_train, y_train, batch_size=32, subset='validation')"
   ]
  },
  {
   "cell_type": "code",
   "execution_count": 15,
   "metadata": {},
   "outputs": [
    {
     "name": "stdout",
     "output_type": "stream",
     "text": [
      "Epoch 1/50\n"
     ]
    },
    {
     "name": "stderr",
     "output_type": "stream",
     "text": [
      "c:\\Users\\jeppe\\AppData\\Local\\Programs\\Python\\Python312\\Lib\\site-packages\\keras\\src\\trainers\\data_adapters\\py_dataset_adapter.py:122: UserWarning: Your `PyDataset` class should call `super().__init__(**kwargs)` in its constructor. `**kwargs` can include `workers`, `use_multiprocessing`, `max_queue_size`. Do not pass these arguments to `fit()`, as they will be ignored.\n",
      "  self._warn_if_super_not_called()\n"
     ]
    },
    {
     "name": "stdout",
     "output_type": "stream",
     "text": [
      "\u001b[1m22011/22011\u001b[0m \u001b[32m━━━━━━━━━━━━━━━━━━━━\u001b[0m\u001b[37m\u001b[0m \u001b[1m384s\u001b[0m 17ms/step - accuracy: 0.8753 - loss: 0.6210 - val_accuracy: 0.9997 - val_loss: 0.1327\n",
      "Epoch 2/50\n",
      "\u001b[1m22011/22011\u001b[0m \u001b[32m━━━━━━━━━━━━━━━━━━━━\u001b[0m\u001b[37m\u001b[0m \u001b[1m158s\u001b[0m 7ms/step - accuracy: 0.9688 - loss: 0.2238 - val_accuracy: 0.9998 - val_loss: 0.1222\n",
      "Epoch 3/50\n",
      "\u001b[1m22011/22011\u001b[0m \u001b[32m━━━━━━━━━━━━━━━━━━━━\u001b[0m\u001b[37m\u001b[0m \u001b[1m134s\u001b[0m 6ms/step - accuracy: 0.9732 - loss: 0.2004 - val_accuracy: 0.9996 - val_loss: 0.1216\n",
      "Epoch 4/50\n",
      "\u001b[1m22011/22011\u001b[0m \u001b[32m━━━━━━━━━━━━━━━━━━━━\u001b[0m\u001b[37m\u001b[0m \u001b[1m121s\u001b[0m 6ms/step - accuracy: 0.9748 - loss: 0.1934 - val_accuracy: 0.9999 - val_loss: 0.1165\n",
      "Epoch 5/50\n",
      "\u001b[1m22011/22011\u001b[0m \u001b[32m━━━━━━━━━━━━━━━━━━━━\u001b[0m\u001b[37m\u001b[0m \u001b[1m117s\u001b[0m 5ms/step - accuracy: 0.9755 - loss: 0.1917 - val_accuracy: 0.9992 - val_loss: 0.1187\n",
      "Epoch 6/50\n",
      "\u001b[1m22011/22011\u001b[0m \u001b[32m━━━━━━━━━━━━━━━━━━━━\u001b[0m\u001b[37m\u001b[0m \u001b[1m141s\u001b[0m 6ms/step - accuracy: 0.9755 - loss: 0.1897 - val_accuracy: 0.9997 - val_loss: 0.1088\n",
      "Epoch 7/50\n",
      "\u001b[1m22011/22011\u001b[0m \u001b[32m━━━━━━━━━━━━━━━━━━━━\u001b[0m\u001b[37m\u001b[0m \u001b[1m132s\u001b[0m 6ms/step - accuracy: 0.9761 - loss: 0.1877 - val_accuracy: 0.9999 - val_loss: 0.1184\n",
      "Epoch 8/50\n",
      "\u001b[1m22011/22011\u001b[0m \u001b[32m━━━━━━━━━━━━━━━━━━━━\u001b[0m\u001b[37m\u001b[0m \u001b[1m109s\u001b[0m 5ms/step - accuracy: 0.9770 - loss: 0.1859 - val_accuracy: 0.9998 - val_loss: 0.1143\n",
      "Epoch 9/50\n",
      "\u001b[1m22011/22011\u001b[0m \u001b[32m━━━━━━━━━━━━━━━━━━━━\u001b[0m\u001b[37m\u001b[0m \u001b[1m96s\u001b[0m 4ms/step - accuracy: 0.9778 - loss: 0.1822 - val_accuracy: 0.9996 - val_loss: 0.1111\n",
      "Epoch 10/50\n",
      "\u001b[1m22011/22011\u001b[0m \u001b[32m━━━━━━━━━━━━━━━━━━━━\u001b[0m\u001b[37m\u001b[0m \u001b[1m88s\u001b[0m 4ms/step - accuracy: 0.9778 - loss: 0.1816 - val_accuracy: 0.9998 - val_loss: 0.1060\n",
      "Epoch 11/50\n",
      "\u001b[1m22011/22011\u001b[0m \u001b[32m━━━━━━━━━━━━━━━━━━━━\u001b[0m\u001b[37m\u001b[0m \u001b[1m89s\u001b[0m 4ms/step - accuracy: 0.9781 - loss: 0.1815 - val_accuracy: 0.9993 - val_loss: 0.1082\n",
      "Epoch 12/50\n",
      "\u001b[1m22011/22011\u001b[0m \u001b[32m━━━━━━━━━━━━━━━━━━━━\u001b[0m\u001b[37m\u001b[0m \u001b[1m89s\u001b[0m 4ms/step - accuracy: 0.9782 - loss: 0.1798 - val_accuracy: 0.9998 - val_loss: 0.1033\n",
      "Epoch 13/50\n",
      "\u001b[1m22011/22011\u001b[0m \u001b[32m━━━━━━━━━━━━━━━━━━━━\u001b[0m\u001b[37m\u001b[0m \u001b[1m89s\u001b[0m 4ms/step - accuracy: 0.9781 - loss: 0.1803 - val_accuracy: 0.9999 - val_loss: 0.1127\n",
      "Epoch 14/50\n",
      "\u001b[1m22011/22011\u001b[0m \u001b[32m━━━━━━━━━━━━━━━━━━━━\u001b[0m\u001b[37m\u001b[0m \u001b[1m91s\u001b[0m 4ms/step - accuracy: 0.9777 - loss: 0.1791 - val_accuracy: 0.9996 - val_loss: 0.1105\n",
      "Epoch 15/50\n",
      "\u001b[1m22011/22011\u001b[0m \u001b[32m━━━━━━━━━━━━━━━━━━━━\u001b[0m\u001b[37m\u001b[0m \u001b[1m89s\u001b[0m 4ms/step - accuracy: 0.9788 - loss: 0.1767 - val_accuracy: 0.9987 - val_loss: 0.1143\n",
      "Epoch 16/50\n",
      "\u001b[1m22011/22011\u001b[0m \u001b[32m━━━━━━━━━━━━━━━━━━━━\u001b[0m\u001b[37m\u001b[0m \u001b[1m88s\u001b[0m 4ms/step - accuracy: 0.9790 - loss: 0.1749 - val_accuracy: 0.9999 - val_loss: 0.1033\n",
      "Epoch 17/50\n",
      "\u001b[1m22011/22011\u001b[0m \u001b[32m━━━━━━━━━━━━━━━━━━━━\u001b[0m\u001b[37m\u001b[0m \u001b[1m89s\u001b[0m 4ms/step - accuracy: 0.9788 - loss: 0.1760 - val_accuracy: 0.9986 - val_loss: 0.1110\n"
     ]
    }
   ],
   "source": [
    "#Compile\n",
    "advanced_model.compile(optimizer='adam', loss='categorical_crossentropy', metrics=['accuracy'])\n",
    "#Train\n",
    "from keras.callbacks import EarlyStopping\n",
    "\n",
    "early_stopping = EarlyStopping(\n",
    "    monitor='val_loss',             # Monitor validation loss\n",
    "    patience=5,                     # Stop if no improvement after 5 epochs\n",
    "    restore_best_weights=True       # Restore the best weights at the end\n",
    ")\n",
    "\n",
    "history = advanced_model.fit(\n",
    "    train_generator,\n",
    "    epochs=50,                      # Increase epochs if using EarlyStopping\n",
    "    validation_data=validation_generator,\n",
    "    callbacks=[early_stopping]      # Add callback\n",
    ")\n",
    "\n",
    "#Save\n",
    "advanced_model.save('advnced_model.keras')"
   ]
  },
  {
   "cell_type": "code",
   "execution_count": 16,
   "metadata": {},
   "outputs": [
    {
     "data": {
      "text/plain": [
       "Text(0.5, 0, 'Epochs')"
      ]
     },
     "execution_count": 16,
     "metadata": {},
     "output_type": "execute_result"
    },
    {
     "data": {
      "image/png": "[encoded data removed]",
      "text/plain": [
       "<Figure size 640x480 with 2 Axes>"
      ]
     },
     "metadata": {},
     "output_type": "display_data"
    }
   ],
   "source": [
    "#Plot figure of epoch history\n",
    "\n",
    "# Save the training history\n",
    "history_dict = history.history\n",
    "\n",
    "fig, axs = plt.subplots(2)\n",
    "\n",
    "axs[0].plot(history_dict['accuracy'], label='Training Accuracy')\n",
    "axs[0].plot(history_dict['val_accuracy'], label='Validation Accuracy')\n",
    "axs[0].legend()\n",
    "axs[0].set_title('Learning Curves')\n",
    "axs[0].set_ylabel('Accuracy')\n",
    "axs[1].plot(history_dict['loss'], label='Training Loss')\n",
    "axs[1].plot(history_dict['val_loss'], label='Validation Loss')\n",
    "axs[1].legend()\n",
    "axs[1].set_ylabel('Cross-Entropy Loss')\n",
    "plt.xlabel('Epochs')"
   ]
  },
  {
   "cell_type": "markdown",
   "metadata": {},
   "source": [
    "#### Predict"
   ]
  },
  {
   "cell_type": "code",
   "execution_count": 17,
   "metadata": {},
   "outputs": [],
   "source": [
    "data_path = r'test_individual_pos' #Set data folder\n",
    "X_original, y_original = Import_individual_positions(data_path)"
   ]
  },
  {
   "cell_type": "code",
   "execution_count": 18,
   "metadata": {},
   "outputs": [],
   "source": [
    "#Convert to numpy array\n",
    "X_ = np.array(X_original)\n",
    "y_num = [CharEnum[char].value for char in y_original] #Convert ASCII to numbers from 1-13\n",
    "y_ = np.array(y_num)\n",
    "\n",
    "#Preprocess\n",
    "X_test = X_.reshape(-1, 50, 50, 3).astype('uint8') / 255 #RGB pixels from 0-255\n",
    "y_test = to_categorical(y_, num_classes=None) #Convert int to binary class matrix (One-hot)"
   ]
  },
  {
   "cell_type": "code",
   "execution_count": 19,
   "metadata": {},
   "outputs": [
    {
     "name": "stdout",
     "output_type": "stream",
     "text": [
      "\u001b[1m6865/6865\u001b[0m \u001b[32m━━━━━━━━━━━━━━━━━━━━\u001b[0m\u001b[37m\u001b[0m \u001b[1m15s\u001b[0m 2ms/step\n",
      "(219656, 13)\n"
     ]
    }
   ],
   "source": [
    "y_pred = advanced_model.predict(X_test)\n",
    "print(y_pred.shape)"
   ]
  },
  {
   "cell_type": "code",
   "execution_count": 20,
   "metadata": {},
   "outputs": [
    {
     "name": "stdout",
     "output_type": "stream",
     "text": [
      "This is a b with 99.9% certainty\n",
      "[0. 0. 0. 0. 0. 0. 0. 0. 0. 1. 0. 0. 0.]\n"
     ]
    },
    {
     "data": {
      "text/plain": [
       "<matplotlib.image.AxesImage at 0x1f550fc64b0>"
      ]
     },
     "execution_count": 20,
     "metadata": {},
     "output_type": "execute_result"
    },
    {
     "data": {
      "image/png": "[encoded data removed]",
      "text/plain": [
       "<Figure size 640x480 with 1 Axes>"
      ]
     },
     "metadata": {},
     "output_type": "display_data"
    }
   ],
   "source": [
    "#Predict a single element\n",
    "data_indice = 5\n",
    "\n",
    "prediction_1 = y_pred[data_indice]\n",
    "max_value = np.max(prediction_1)\n",
    "max_arg = np.argmax(prediction_1)\n",
    "\n",
    "#From number to symbol\n",
    "print(f\"This is a {CharEnum(max_arg).name} with {100*max_value:.1f}% certainty\")\n",
    "\n",
    "#Print correct answer\n",
    "print(y_test[data_indice])\n",
    "\n",
    "# Print image\n",
    "plt.imshow(X_test[data_indice])"
   ]
  },
  {
   "cell_type": "markdown",
   "metadata": {},
   "source": [
    "#### Calculate accuracy and loss from whole test set"
   ]
  },
  {
   "cell_type": "code",
   "execution_count": 21,
   "metadata": {},
   "outputs": [
    {
     "name": "stdout",
     "output_type": "stream",
     "text": [
      "\u001b[1m6865/6865\u001b[0m \u001b[32m━━━━━━━━━━━━━━━━━━━━\u001b[0m\u001b[37m\u001b[0m \u001b[1m14s\u001b[0m 2ms/step - accuracy: 0.9999 - loss: 0.1027\n",
      "Loss: 0.1031448021531105\n",
      "Accuracy: 0.999854326248169\n"
     ]
    }
   ],
   "source": [
    "loss_from_test, acc_from_test = advanced_model.evaluate(X_test, y_test)\n",
    "print(f\"Loss: {loss_from_test}\")\n",
    "print(f\"Accuracy: {acc_from_test}\")"
   ]
  },
  {
   "cell_type": "markdown",
   "metadata": {},
   "source": [
    "#### Confusion matrix"
   ]
  },
  {
   "cell_type": "code",
   "execution_count": 25,
   "metadata": {},
   "outputs": [],
   "source": [
    "y_pred_classes = np.argmax(y_pred, axis=1)\n",
    "y_true = np.argmax(y_test, axis=1)\n",
    "y_true_classes = np.argmax(y_test, axis=1)"
   ]
  },
  {
   "cell_type": "code",
   "execution_count": 26,
   "metadata": {},
   "outputs": [
    {
     "name": "stdout",
     "output_type": "stream",
     "text": [
      "[0. 0. 0. 0. 0. 0. 0. 0. 0. 1. 0. 0. 0.]\n",
      "9\n",
      "[0.0000000e+00 3.1602645e-15 1.1380344e-12 1.9798449e-03 3.1324096e-10\n",
      " 2.9960720e-10 1.6879309e-13 1.7098922e-19 1.2304876e-12 9.9802017e-01\n",
      " 1.5345991e-10 4.7720665e-13 1.6867673e-15]\n",
      "9\n"
     ]
    }
   ],
   "source": [
    "print(y_test[0])\n",
    "print(y_true[0])\n",
    "print(y_pred[0])\n",
    "print(y_pred_classes[0])"
   ]
  },
  {
   "cell_type": "code",
   "execution_count": 27,
   "metadata": {},
   "outputs": [
    {
     "name": "stdout",
     "output_type": "stream",
     "text": [
      "[9 3 3 ... 0 0 0]\n",
      "[9 3 3 ... 0 0 0]\n"
     ]
    }
   ],
   "source": [
    "print(y_pred_classes)\n",
    "print(y_true_classes)"
   ]
  },
  {
   "cell_type": "code",
   "execution_count": 28,
   "metadata": {},
   "outputs": [
    {
     "data": {
      "image/png": "[encoded data removed]",
      "text/plain": [
       "<Figure size 640x480 with 2 Axes>"
      ]
     },
     "metadata": {},
     "output_type": "display_data"
    }
   ],
   "source": [
    "import matplotlib.pyplot as plt\n",
    "import numpy\n",
    "from sklearn import metrics\n",
    "\n",
    "confusion_matrix = metrics.confusion_matrix(y_true_classes, y_pred_classes)\n",
    "class_names = [char.name for char in CharEnum]\n",
    "cm_display = metrics.ConfusionMatrixDisplay(confusion_matrix = confusion_matrix, display_labels = class_names)\n",
    "cm_display.plot()\n",
    "plt.show()"
   ]
  }
 ],
 "metadata": {
  "kernelspec": {
   "display_name": "Python 3",
   "language": "python",
   "name": "python3"
  },
  "language_info": {
   "codemirror_mode": {
    "name": "ipython",
    "version": 3
   },
   "file_extension": ".py",
   "mimetype": "text/x-python",
   "name": "python",
   "nbconvert_exporter": "python",
   "pygments_lexer": "ipython3",
   "version": "3.12.6"
  }
 },
 "nbformat": 4,
 "nbformat_minor": 2
}
